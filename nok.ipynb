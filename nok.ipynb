{
 "cells": [
  {
   "cell_type": "code",
   "execution_count": 3,
   "metadata": {},
   "outputs": [
    {
     "name": "stdout",
     "output_type": "stream",
     "text": [
      "46340 46339\n",
      "46339 1\n"
     ]
    }
   ],
   "source": [
    "# НОК (0014)\n",
    "# \n",
    "# Требуется написать программу, определяющую наименьшее общее кратное (НОК) чисел a и b.\n",
    "#\n",
    "# Входные данные\n",
    "# В единственной строке входного файла INPUT.TXT записаны два натуральных числа А и В через пробел, не превышающих 46340.\n",
    "#\n",
    "# Выходные данные\n",
    "#В единственную строку выходного файла OUTPUT.TXT нужно вывести одно целое число — НОК чисел А и В.\n",
    "# ------------------------------------------------------------------------------------------------------------------------------\n",
    "input_data = open('input.txt', 'r') # Открываем для чтения (литера 'r') файл и кладем его в переменную\n",
    "data = input_data.read() # Читаем в другую переменную содержимое всего файла\n",
    "\n",
    "# Разбиваем строку в список (list) с использованием команды сплит (по умолчанию разделитель - пробел)\n",
    "A, B = data.split()\n",
    "a = A = int(A)\n",
    "b = B = int(B)\n",
    "while A > 0 and B > 0:\n",
    "    if A > B:\n",
    "        print(A, B)\n",
    "        A = A % B\n",
    "        gcd = B\n",
    "    elif B > A:\n",
    "        print(B, A)\n",
    "        B = B % A\n",
    "        gcd = A\n",
    "lcm = a * b / gcd\n",
    "lcm = int(lcm)\n",
    "result = str(lcm)\n",
    "output_data = open('output.txt', 'w') # Открываем для записи (литера 'w') файл и кладем его в переменную\n",
    "# Записываем результат сложения и не забываем преобразовать его в строку (иначе будет ошибка)\n",
    "output_data.write(result) \n",
    "# output_data.write(str(int(data[0]) + int(data[1]))) \n",
    "\n",
    "# ВАЖНО!!! \n",
    "# не забываем закрывать открытые ранее файлы!\n",
    "input_data.close() \n",
    "output_data.close()"
   ]
  }
 ],
 "metadata": {
  "kernelspec": {
   "display_name": "Python 3",
   "language": "python",
   "name": "python3"
  },
  "language_info": {
   "codemirror_mode": {
    "name": "ipython",
    "version": 3
   },
   "file_extension": ".py",
   "mimetype": "text/x-python",
   "name": "python",
   "nbconvert_exporter": "python",
   "pygments_lexer": "ipython3",
   "version": "3.12.5"
  }
 },
 "nbformat": 4,
 "nbformat_minor": 2
}
